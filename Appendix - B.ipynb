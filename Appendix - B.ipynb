{
 "cells": [
  {
   "cell_type": "markdown",
   "id": "3cad893a",
   "metadata": {},
   "source": [
    "# More on the Ipython System"
   ]
  },
  {
   "cell_type": "code",
   "execution_count": 1,
   "id": "a6af8e21",
   "metadata": {},
   "outputs": [],
   "source": [
    "import numpy as np\n",
    "import pandas as pd\n",
    "import matplotlib.pyplot as plt\n",
    "import seaborn as sns"
   ]
  },
  {
   "cell_type": "markdown",
   "id": "48501c5b",
   "metadata": {},
   "source": [
    "### Terminal Keybord shortcuts"
   ]
  },
  {
   "cell_type": "code",
   "execution_count": 2,
   "id": "d03b09ce",
   "metadata": {},
   "outputs": [],
   "source": [
    "a = np.random.standard_normal((100, 100))"
   ]
  },
  {
   "cell_type": "code",
   "execution_count": 3,
   "id": "fe2194f1",
   "metadata": {},
   "outputs": [
    {
     "name": "stdout",
     "output_type": "stream",
     "text": [
      "39.1 µs ± 8.17 µs per loop (mean ± std. dev. of 7 runs, 10,000 loops each)\n"
     ]
    }
   ],
   "source": [
    "%timeit np.dot(a, a)"
   ]
  },
  {
   "cell_type": "code",
   "execution_count": 4,
   "id": "1a75d8d6",
   "metadata": {},
   "outputs": [],
   "source": [
    "%debug?"
   ]
  },
  {
   "cell_type": "code",
   "execution_count": 5,
   "id": "1107869d",
   "metadata": {},
   "outputs": [
    {
     "data": {
      "text/plain": [
       "'/Users/isisromero/Desktop/python-4-da'"
      ]
     },
     "execution_count": 5,
     "metadata": {},
     "output_type": "execute_result"
    }
   ],
   "source": [
    "%pwd"
   ]
  },
  {
   "cell_type": "code",
   "execution_count": 6,
   "id": "c3949fdf",
   "metadata": {},
   "outputs": [],
   "source": [
    "foo = %pwd"
   ]
  },
  {
   "cell_type": "code",
   "execution_count": 7,
   "id": "3ad08019",
   "metadata": {},
   "outputs": [
    {
     "data": {
      "text/plain": [
       "'/Users/isisromero/Desktop/python-4-da'"
      ]
     },
     "execution_count": 7,
     "metadata": {},
     "output_type": "execute_result"
    }
   ],
   "source": [
    "foo"
   ]
  },
  {
   "cell_type": "markdown",
   "id": "d0b99457",
   "metadata": {},
   "source": [
    "### The % run Command"
   ]
  },
  {
   "cell_type": "code",
   "execution_count": 8,
   "id": "69df7a07",
   "metadata": {},
   "outputs": [],
   "source": [
    "def f(x, y, z):\n",
    "    return (x + y) / z"
   ]
  },
  {
   "cell_type": "code",
   "execution_count": 9,
   "id": "d3ca4fde",
   "metadata": {},
   "outputs": [],
   "source": [
    "a = 5\n",
    "b = 6\n",
    "c = 7.5\n",
    "\n",
    "result = f(a, b, c)"
   ]
  },
  {
   "cell_type": "code",
   "execution_count": 10,
   "id": "fe0a3c9e",
   "metadata": {},
   "outputs": [
    {
     "data": {
      "text/plain": [
       "'%run script.py'"
      ]
     },
     "execution_count": 10,
     "metadata": {},
     "output_type": "execute_result"
    }
   ],
   "source": [
    "'%run ' 'script.py'"
   ]
  },
  {
   "cell_type": "code",
   "execution_count": 11,
   "id": "bfa41c50",
   "metadata": {},
   "outputs": [
    {
     "data": {
      "text/plain": [
       "7.5"
      ]
     },
     "execution_count": 11,
     "metadata": {},
     "output_type": "execute_result"
    }
   ],
   "source": [
    "c"
   ]
  },
  {
   "cell_type": "code",
   "execution_count": 12,
   "id": "8e238975",
   "metadata": {},
   "outputs": [
    {
     "data": {
      "text/plain": [
       "1.4666666666666666"
      ]
     },
     "execution_count": 12,
     "metadata": {},
     "output_type": "execute_result"
    }
   ],
   "source": [
    "result"
   ]
  },
  {
   "cell_type": "code",
   "execution_count": 13,
   "id": "1867d3a3",
   "metadata": {},
   "outputs": [],
   "source": [
    "def f(x, y, z):\n",
    "    return (x + y) / z"
   ]
  },
  {
   "cell_type": "code",
   "execution_count": 14,
   "id": "f2b1c802",
   "metadata": {},
   "outputs": [],
   "source": [
    "a = 5\n",
    "b = 6\n",
    "c = 7.5\n",
    "\n",
    "result = f(a, b, c)"
   ]
  },
  {
   "cell_type": "markdown",
   "id": "d713e9ef",
   "metadata": {},
   "source": [
    "### Executing Code from the Clipboard"
   ]
  },
  {
   "cell_type": "code",
   "execution_count": 15,
   "id": "133cfa16",
   "metadata": {},
   "outputs": [],
   "source": [
    "x = 5\n",
    "y = 7\n",
    "if x > 5:\n",
    "    x += 1\n",
    "    y = 8"
   ]
  },
  {
   "cell_type": "code",
   "execution_count": 16,
   "id": "18607c36",
   "metadata": {},
   "outputs": [],
   "source": [
    "# %paste"
   ]
  },
  {
   "cell_type": "code",
   "execution_count": 17,
   "id": "0440bf2b",
   "metadata": {},
   "outputs": [],
   "source": [
    "# %cpaste"
   ]
  },
  {
   "cell_type": "markdown",
   "id": "89cdfe9e",
   "metadata": {},
   "source": [
    "# B.3 Using the Command History"
   ]
  },
  {
   "cell_type": "code",
   "execution_count": 18,
   "id": "9534447b",
   "metadata": {},
   "outputs": [],
   "source": [
    "# %run first/second/third/data_script.py"
   ]
  },
  {
   "cell_type": "code",
   "execution_count": 19,
   "id": "be88e94b",
   "metadata": {},
   "outputs": [],
   "source": [
    "# a_command = foo(x, y, z)"
   ]
  },
  {
   "cell_type": "markdown",
   "id": "56abb58e",
   "metadata": {},
   "source": [
    "### Input & Output Variables"
   ]
  },
  {
   "cell_type": "code",
   "execution_count": 20,
   "id": "f26bbdfd",
   "metadata": {},
   "outputs": [
    {
     "data": {
      "text/plain": [
       "'input1'"
      ]
     },
     "execution_count": 20,
     "metadata": {},
     "output_type": "execute_result"
    }
   ],
   "source": [
    "'input1'"
   ]
  },
  {
   "cell_type": "code",
   "execution_count": 21,
   "id": "d6846fd2",
   "metadata": {},
   "outputs": [
    {
     "data": {
      "text/plain": [
       "'input2'"
      ]
     },
     "execution_count": 21,
     "metadata": {},
     "output_type": "execute_result"
    }
   ],
   "source": [
    "'input2'"
   ]
  },
  {
   "cell_type": "code",
   "execution_count": 22,
   "id": "48756e45",
   "metadata": {},
   "outputs": [
    {
     "data": {
      "text/plain": [
       "'input1'"
      ]
     },
     "execution_count": 22,
     "metadata": {},
     "output_type": "execute_result"
    }
   ],
   "source": [
    "__"
   ]
  },
  {
   "cell_type": "code",
   "execution_count": 23,
   "id": "53119804",
   "metadata": {},
   "outputs": [
    {
     "data": {
      "text/plain": [
       "'input3'"
      ]
     },
     "execution_count": 23,
     "metadata": {},
     "output_type": "execute_result"
    }
   ],
   "source": [
    "'input3'"
   ]
  },
  {
   "cell_type": "code",
   "execution_count": 24,
   "id": "630b31f8",
   "metadata": {},
   "outputs": [
    {
     "data": {
      "text/plain": [
       "'input3'"
      ]
     },
     "execution_count": 24,
     "metadata": {},
     "output_type": "execute_result"
    }
   ],
   "source": [
    "_"
   ]
  },
  {
   "cell_type": "code",
   "execution_count": 25,
   "id": "5001d9aa",
   "metadata": {},
   "outputs": [],
   "source": [
    "foo = 'bar'"
   ]
  },
  {
   "cell_type": "code",
   "execution_count": 27,
   "id": "a878f830",
   "metadata": {},
   "outputs": [
    {
     "data": {
      "text/plain": [
       "'# %cpaste'"
      ]
     },
     "execution_count": 27,
     "metadata": {},
     "output_type": "execute_result"
    }
   ],
   "source": [
    "_i17"
   ]
  },
  {
   "cell_type": "code",
   "execution_count": 28,
   "id": "caa0c2b3",
   "metadata": {},
   "outputs": [
    {
     "data": {
      "text/plain": [
       "'# %cpaste'"
      ]
     },
     "execution_count": 28,
     "metadata": {},
     "output_type": "execute_result"
    }
   ],
   "source": [
    "_27"
   ]
  },
  {
   "cell_type": "code",
   "execution_count": 29,
   "id": "6b883cef",
   "metadata": {},
   "outputs": [
    {
     "data": {
      "text/plain": [
       "'# %cpaste'"
      ]
     },
     "execution_count": 29,
     "metadata": {},
     "output_type": "execute_result"
    }
   ],
   "source": [
    "eval(_i27)"
   ]
  },
  {
   "cell_type": "markdown",
   "id": "083dec09",
   "metadata": {},
   "source": [
    "### B.4 Interacting with the Operating System"
   ]
  },
  {
   "cell_type": "code",
   "execution_count": 30,
   "id": "e4354d38",
   "metadata": {},
   "outputs": [],
   "source": [
    "ip_info = !ifconfig wlan0 | grep \"inet\""
   ]
  },
  {
   "cell_type": "code",
   "execution_count": 31,
   "id": "620f60d9",
   "metadata": {},
   "outputs": [
    {
     "data": {
      "text/plain": [
       "'ifconfig: interface wlan0 does not exist'"
      ]
     },
     "execution_count": 31,
     "metadata": {},
     "output_type": "execute_result"
    }
   ],
   "source": [
    "ip_info[0].strip()"
   ]
  },
  {
   "cell_type": "code",
   "execution_count": 32,
   "id": "e9da26e7",
   "metadata": {},
   "outputs": [],
   "source": [
    "foo = 'test*'"
   ]
  },
  {
   "cell_type": "code",
   "execution_count": 33,
   "id": "33a12d74",
   "metadata": {},
   "outputs": [
    {
     "name": "stdout",
     "output_type": "stream",
     "text": [
      "zsh:1: no matches found: test*\r\n"
     ]
    }
   ],
   "source": [
    "!ls $foo"
   ]
  },
  {
   "cell_type": "code",
   "execution_count": 34,
   "id": "6dc522b9",
   "metadata": {},
   "outputs": [],
   "source": [
    "%alias ll ls -l"
   ]
  },
  {
   "cell_type": "code",
   "execution_count": 35,
   "id": "b5cbe68f",
   "metadata": {},
   "outputs": [
    {
     "name": "stdout",
     "output_type": "stream",
     "text": [
      "total 0\r\n",
      "lrwxr-xr-x    1 root  wheel     25 Dec  2 04:37 \u001b[35mX11\u001b[m\u001b[m -> ../private/var/select/X11\r\n",
      "lrwxr-xr-x    1 root  wheel     25 Dec  2 04:37 \u001b[35mX11R6\u001b[m\u001b[m -> ../private/var/select/X11\r\n",
      "drwxr-xr-x  936 root  wheel  29952 Dec  2 04:37 \u001b[1m\u001b[36mbin\u001b[m\u001b[m\r\n",
      "drwxr-xr-x   29 root  wheel    928 Dec  2 04:37 \u001b[1m\u001b[36mlib\u001b[m\u001b[m\r\n",
      "drwxr-xr-x  326 root  wheel  10432 Dec  2 04:37 \u001b[1m\u001b[36mlibexec\u001b[m\u001b[m\r\n",
      "drwxr-xr-x   20 root  wheel    640 Feb 17 20:27 \u001b[1m\u001b[36mlocal\u001b[m\u001b[m\r\n",
      "drwxr-xr-x  231 root  wheel   7392 Dec  2 04:37 \u001b[1m\u001b[36msbin\u001b[m\u001b[m\r\n",
      "drwxr-xr-x   42 root  wheel   1344 Dec  2 04:37 \u001b[1m\u001b[36mshare\u001b[m\u001b[m\r\n",
      "drwxr-xr-x    6 root  wheel    192 Dec  2 04:37 \u001b[1m\u001b[36mstandalone\u001b[m\u001b[m\r\n"
     ]
    }
   ],
   "source": [
    "ll /usr"
   ]
  },
  {
   "cell_type": "code",
   "execution_count": 36,
   "id": "78349574",
   "metadata": {},
   "outputs": [],
   "source": [
    "%alias test_alias (cd examples; ls; cd ..)"
   ]
  },
  {
   "cell_type": "code",
   "execution_count": 37,
   "id": "3baae4fa",
   "metadata": {},
   "outputs": [
    {
     "name": "stdout",
     "output_type": "stream",
     "text": [
      "array_ex.txt               ipython_bug.py\r\n",
      "csv_mindex.csv             macrodata.csv\r\n",
      "ex1.csv                    out.csv\r\n",
      "ex1.xlsx                   segismundo.txt\r\n",
      "ex2.csv                    spx.csv\r\n",
      "ex2.xlsx                   stinkbug.png\r\n",
      "ex3.txt                    stock_px.csv\r\n",
      "ex4.csv                    test_file.csv\r\n",
      "ex5.csv                    tips.csv\r\n",
      "ex6.csv                    tseries.csv\r\n",
      "ex7.csv                    volume.csv\r\n",
      "example.json               yahoo_price.pkl\r\n",
      "fdic_failed_bank_list.html yahoo_volume.pkl\r\n",
      "frame_pickle\r\n"
     ]
    }
   ],
   "source": [
    "test_alias"
   ]
  },
  {
   "cell_type": "markdown",
   "id": "4445baf5",
   "metadata": {},
   "source": [
    "### Directory Bookmark System"
   ]
  },
  {
   "cell_type": "code",
   "execution_count": 38,
   "id": "7f0bc8f4",
   "metadata": {},
   "outputs": [
    {
     "data": {
      "text/plain": [
       "'/Users/isisromero/Desktop/python-4-da'"
      ]
     },
     "execution_count": 38,
     "metadata": {},
     "output_type": "execute_result"
    }
   ],
   "source": [
    "%pwd"
   ]
  },
  {
   "cell_type": "code",
   "execution_count": 39,
   "id": "5d2226a7",
   "metadata": {},
   "outputs": [],
   "source": [
    "%bookmark /Users/isisromero/Desktop/python-4-da"
   ]
  },
  {
   "cell_type": "code",
   "execution_count": 40,
   "id": "9a6df685",
   "metadata": {},
   "outputs": [],
   "source": [
    "# cd py-4-da"
   ]
  },
  {
   "cell_type": "code",
   "execution_count": 41,
   "id": "3bc749d0",
   "metadata": {},
   "outputs": [
    {
     "name": "stdout",
     "output_type": "stream",
     "text": [
      "Current bookmarks:\n",
      "/Users/isisromero/Desktop/python-4-da -> /Users/isisromero/Desktop/python-4-da\n"
     ]
    }
   ],
   "source": [
    "%bookmark -l"
   ]
  },
  {
   "cell_type": "markdown",
   "id": "b04dcad7",
   "metadata": {},
   "source": [
    "# B.5 Software Development Tools"
   ]
  },
  {
   "cell_type": "markdown",
   "id": "6b282b42",
   "metadata": {},
   "source": [
    "### Interactive Debugger"
   ]
  },
  {
   "cell_type": "code",
   "execution_count": 42,
   "id": "ce48cd0b",
   "metadata": {},
   "outputs": [],
   "source": [
    "# run examples/ipython_bug.py"
   ]
  },
  {
   "cell_type": "code",
   "execution_count": 43,
   "id": "80373c4c",
   "metadata": {},
   "outputs": [],
   "source": [
    "# %debug"
   ]
  },
  {
   "cell_type": "code",
   "execution_count": 44,
   "id": "6d40bd76",
   "metadata": {},
   "outputs": [],
   "source": [
    "# run -d examples/ipython_bug.py"
   ]
  },
  {
   "cell_type": "markdown",
   "id": "eb8f11c3",
   "metadata": {},
   "source": [
    "##### Other ways  to used the debugger"
   ]
  },
  {
   "cell_type": "code",
   "execution_count": 48,
   "id": "ddefd47f",
   "metadata": {},
   "outputs": [],
   "source": [
    "# from Ipython.core.debugger import Pdb"
   ]
  },
  {
   "cell_type": "code",
   "execution_count": 49,
   "id": "f61559a3",
   "metadata": {},
   "outputs": [],
   "source": [
    "# def set_trace():\n",
    "#     Pdb(.set_trace(sys._getframe().f_back))\n",
    "    \n",
    "# def debug(f, *args, **kwargs):\n",
    "#     pdb = Pdb()\n",
    "#     return pdb.runcall(f, *args, **kwargs)"
   ]
  },
  {
   "cell_type": "code",
   "execution_count": 50,
   "id": "e78a81cf",
   "metadata": {},
   "outputs": [],
   "source": [
    "# run examples/ipython_bug.py"
   ]
  },
  {
   "cell_type": "code",
   "execution_count": 51,
   "id": "5f990abb",
   "metadata": {},
   "outputs": [],
   "source": [
    "def f(x, y, z=1):\n",
    "    tmp = x + y\n",
    "    return tmp / z"
   ]
  },
  {
   "cell_type": "code",
   "execution_count": 52,
   "id": "5785ae93",
   "metadata": {},
   "outputs": [],
   "source": [
    "# debug(f, 1, 2, z=3)"
   ]
  },
  {
   "cell_type": "markdown",
   "id": "a39b9706",
   "metadata": {},
   "source": [
    "### Timing Code: %time and %timeit"
   ]
  },
  {
   "cell_type": "code",
   "execution_count": 53,
   "id": "9675429d",
   "metadata": {},
   "outputs": [],
   "source": [
    "import time "
   ]
  },
  {
   "cell_type": "code",
   "execution_count": 55,
   "id": "9385eac3",
   "metadata": {},
   "outputs": [],
   "source": [
    "# start = time.time()\n",
    "# for i in range(iterations):\n",
    "#     elapsed_per = (time.time() - start) / iterations"
   ]
  },
  {
   "cell_type": "code",
   "execution_count": 56,
   "id": "a2dcf47b",
   "metadata": {},
   "outputs": [],
   "source": [
    "strings = ['foo', 'foobar', 'baz', 'qux', 'python', 'Guido Van Rossum'] * 100000"
   ]
  },
  {
   "cell_type": "code",
   "execution_count": 57,
   "id": "fe69fb3b",
   "metadata": {},
   "outputs": [],
   "source": [
    "method1 = [x for x in strings if x.startswith('foo')]\n",
    "\n",
    "method2 = [x for x in strings if x[:3] == 'foo']"
   ]
  },
  {
   "cell_type": "code",
   "execution_count": 58,
   "id": "1ed7f187",
   "metadata": {},
   "outputs": [
    {
     "name": "stdout",
     "output_type": "stream",
     "text": [
      "CPU times: user 83.3 ms, sys: 5.82 ms, total: 89.1 ms\n",
      "Wall time: 89.4 ms\n"
     ]
    }
   ],
   "source": [
    "%time method1 = [x for x in strings if x.startswith('foo')]"
   ]
  },
  {
   "cell_type": "code",
   "execution_count": 59,
   "id": "f76a8838",
   "metadata": {},
   "outputs": [
    {
     "name": "stdout",
     "output_type": "stream",
     "text": [
      "CPU times: user 80.6 ms, sys: 10.8 ms, total: 91.4 ms\n",
      "Wall time: 108 ms\n"
     ]
    }
   ],
   "source": [
    "%time method2 = [x for x in strings if x[:3] == 'foo']"
   ]
  },
  {
   "cell_type": "code",
   "execution_count": 60,
   "id": "2309893d",
   "metadata": {},
   "outputs": [
    {
     "name": "stdout",
     "output_type": "stream",
     "text": [
      "57.6 ms ± 2.49 ms per loop (mean ± std. dev. of 7 runs, 10 loops each)\n",
      "43.9 ms ± 2.74 ms per loop (mean ± std. dev. of 7 runs, 10 loops each)\n"
     ]
    }
   ],
   "source": [
    "%timeit [x for x in strings if x.startswith('foo')]\n",
    "\n",
    "%timeit [x for x in strings if x[:3] == 'foo']"
   ]
  },
  {
   "cell_type": "code",
   "execution_count": 61,
   "id": "7cd7408d",
   "metadata": {},
   "outputs": [],
   "source": [
    "x = 'foobar'\n",
    "y = 'foo'"
   ]
  },
  {
   "cell_type": "code",
   "execution_count": 62,
   "id": "00ff70bf",
   "metadata": {},
   "outputs": [
    {
     "name": "stdout",
     "output_type": "stream",
     "text": [
      "99.7 ns ± 2.41 ns per loop (mean ± std. dev. of 7 runs, 10,000,000 loops each)\n",
      "90.5 ns ± 5.13 ns per loop (mean ± std. dev. of 7 runs, 10,000,000 loops each)\n"
     ]
    }
   ],
   "source": [
    "%timeit x.startswith(y)\n",
    "\n",
    "%timeit x[:3] == y"
   ]
  },
  {
   "cell_type": "markdown",
   "id": "dd15285a",
   "metadata": {},
   "source": [
    "### Basic Profiling: %prun & %run -p"
   ]
  },
  {
   "cell_type": "code",
   "execution_count": 63,
   "id": "2c156223",
   "metadata": {},
   "outputs": [],
   "source": [
    "from numpy.linalg import eigvals"
   ]
  },
  {
   "cell_type": "code",
   "execution_count": 66,
   "id": "dc5cc32c",
   "metadata": {},
   "outputs": [],
   "source": [
    "# def run_experiment(niter=100):\n",
    "#     k = 100\n",
    "#     results =[]\n",
    "#     for _ in range(niter):\n",
    "#         mat = np.random.standard_normal((K, k))\n",
    "#         max_eigenvalue = np.abs(eigvals(mat)).max()\n",
    "#         results.append(max_eigenvalue)\n",
    "#     return results\n",
    "# some_results = run_experiment()\n",
    "# print('Largest one we saw: {0}'.format(np.max(some_results)))"
   ]
  },
  {
   "cell_type": "code",
   "execution_count": 68,
   "id": "62339f14",
   "metadata": {},
   "outputs": [],
   "source": [
    "# python -m cProfile cprof_example.py"
   ]
  },
  {
   "cell_type": "code",
   "execution_count": 69,
   "id": "0ed65196",
   "metadata": {},
   "outputs": [],
   "source": [
    "# %prun -l 7 -s cumulative run_experiment()"
   ]
  },
  {
   "cell_type": "markdown",
   "id": "3efb6c02",
   "metadata": {},
   "source": [
    "### Profiling a Function Line by line"
   ]
  },
  {
   "cell_type": "code",
   "execution_count": 70,
   "id": "09b777f3",
   "metadata": {},
   "outputs": [],
   "source": [
    "from numpy.random import randn"
   ]
  },
  {
   "cell_type": "code",
   "execution_count": 72,
   "id": "90b6fd09",
   "metadata": {},
   "outputs": [],
   "source": [
    "# %load_ext line_profiler"
   ]
  },
  {
   "cell_type": "code",
   "execution_count": 73,
   "id": "21b5d4c5",
   "metadata": {},
   "outputs": [],
   "source": [
    "def add_and_sum(x, y):\n",
    "    added = x + y\n",
    "    summed = added.sum(axis=1)\n",
    "    return summed"
   ]
  },
  {
   "cell_type": "code",
   "execution_count": 74,
   "id": "46d6d4de",
   "metadata": {},
   "outputs": [],
   "source": [
    "def call_function():\n",
    "    x = randn(1000, 1000)\n",
    "    y = randn(1000, 1000)\n",
    "    return add_and_sum(x, y)"
   ]
  },
  {
   "cell_type": "code",
   "execution_count": 76,
   "id": "e290d133",
   "metadata": {},
   "outputs": [
    {
     "data": {
      "text/plain": [
       "'%runprof_mod'"
      ]
     },
     "execution_count": 76,
     "metadata": {},
     "output_type": "execute_result"
    }
   ],
   "source": [
    "'%run' 'prof_mod'"
   ]
  },
  {
   "cell_type": "code",
   "execution_count": 77,
   "id": "f656577f",
   "metadata": {},
   "outputs": [],
   "source": [
    "x = randn(3000, 3000)"
   ]
  },
  {
   "cell_type": "code",
   "execution_count": 78,
   "id": "8a3ba85e",
   "metadata": {},
   "outputs": [],
   "source": [
    "y = randn(3000, 3000)"
   ]
  },
  {
   "cell_type": "code",
   "execution_count": 79,
   "id": "75a85010",
   "metadata": {},
   "outputs": [
    {
     "name": "stdout",
     "output_type": "stream",
     "text": [
      " "
     ]
    }
   ],
   "source": [
    "%prun add_and_sum(x, y)"
   ]
  },
  {
   "cell_type": "code",
   "execution_count": 81,
   "id": "9a946074",
   "metadata": {},
   "outputs": [],
   "source": [
    "# %lprun -f func1 -f func2 statement_to_profile"
   ]
  },
  {
   "cell_type": "code",
   "execution_count": 83,
   "id": "9469cecf",
   "metadata": {},
   "outputs": [],
   "source": [
    "# %lprun -f add_and_sum add_and_sum(x, y)"
   ]
  },
  {
   "cell_type": "code",
   "execution_count": 85,
   "id": "14b3b0be",
   "metadata": {},
   "outputs": [],
   "source": [
    "# %lprun - f add_and_sum -f call_function call_function()"
   ]
  },
  {
   "cell_type": "markdown",
   "id": "caec839c",
   "metadata": {},
   "source": [
    "# B.6 Tips fro Productive Code Development Using IPython"
   ]
  },
  {
   "cell_type": "markdown",
   "id": "6b3c4cd3",
   "metadata": {},
   "source": [
    "### Reloading Module Dependencies"
   ]
  },
  {
   "cell_type": "code",
   "execution_count": 87,
   "id": "d259dc1c",
   "metadata": {},
   "outputs": [],
   "source": [
    "# import some_lib\n",
    "\n",
    "# x = 5 \n",
    "# y = [1, 2, 3, 4]\n",
    "# result = some_lib.get_answer(x, y)"
   ]
  },
  {
   "cell_type": "code",
   "execution_count": 90,
   "id": "dab04e59",
   "metadata": {},
   "outputs": [],
   "source": [
    "# import some_lib\n",
    "# import importlib\n",
    "\n",
    "# importlib.reload(some_lib)"
   ]
  },
  {
   "cell_type": "markdown",
   "id": "d525d51e",
   "metadata": {},
   "source": [
    "### Code Desing Tips"
   ]
  },
  {
   "cell_type": "markdown",
   "id": "c03d02ad",
   "metadata": {},
   "source": [
    "##### Keep relevant objects and data alive\n"
   ]
  },
  {
   "cell_type": "code",
   "execution_count": 93,
   "id": "1d63368c",
   "metadata": {},
   "outputs": [],
   "source": [
    "# from my_functions import g\n",
    "\n",
    "# df f(x, y):\n",
    "#     return g(x + y)"
   ]
  },
  {
   "cell_type": "code",
   "execution_count": 95,
   "id": "002f03b6",
   "metadata": {},
   "outputs": [],
   "source": [
    "# def main():\n",
    "#     x = 6\n",
    "#     y = 7.5\n",
    "#     result = x + y\n",
    "    \n",
    "# if __name__ == '__main__':\n",
    "#     main()"
   ]
  },
  {
   "cell_type": "markdown",
   "id": "9a985d45",
   "metadata": {},
   "source": [
    "##### Flat is better than nested\n",
    "##### Overcome a fear of longer files"
   ]
  },
  {
   "cell_type": "code",
   "execution_count": null,
   "id": "a833d820",
   "metadata": {},
   "outputs": [],
   "source": []
  }
 ],
 "metadata": {
  "kernelspec": {
   "display_name": "Python 3 (ipykernel)",
   "language": "python",
   "name": "python3"
  },
  "language_info": {
   "codemirror_mode": {
    "name": "ipython",
    "version": 3
   },
   "file_extension": ".py",
   "mimetype": "text/x-python",
   "name": "python",
   "nbconvert_exporter": "python",
   "pygments_lexer": "ipython3",
   "version": "3.10.9"
  }
 },
 "nbformat": 4,
 "nbformat_minor": 5
}
